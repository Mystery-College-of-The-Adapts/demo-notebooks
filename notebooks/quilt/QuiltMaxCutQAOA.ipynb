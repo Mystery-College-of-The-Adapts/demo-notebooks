{
 "cells": [
  {
   "cell_type": "markdown",
   "metadata": {},
   "source": [
    "# Max-Cut QAOA with Quil-T\n",
    "\n",
    "In this notebook we will walk through how to run the **Quantum Approximate Optimization Algorithm** (QAOA) on the Aspen-8 QPU, using features of **Quil-T** to disable global fencing on CZ gates. This extends the QAOA demonstration shown in the ``MaxCutQAOA.ipynb`` notebook, with basic operations consolidated and new sections focusing on Quil-T.\n",
    "\n",
    "Fencing is used to sequence operations in time at the pulse control level. To minimize crosstalk on 2Q gates, global fencing is normally enabled, meaning that each 2Q gate is applied with no other operations occurring on the QPU. While this maximizes the fidelity of any single 2Q gate, it also limits the total 2Q gate depth that can be achieved within the coherence time of the system. For shallow circuits less than 10x 2Q gates, this is certainly the right choice. However, for deep circuits greater than 20x 2Q gates, it can be that disabling fencing provides a net improvement in fidelity for specific applications. We will demonstrate this effect in the context of a Max-Cut problem run using QAOA.\n",
    "\n",
    "**NOTE**: This notebook depends on your JupyterLab environment being configured to use the **Quil-T SDK**, and only runs on QPU. If the following set of imports fails, it is possible you are running in the wrong environment."
   ]
  },
  {
   "cell_type": "code",
   "execution_count": null,
   "metadata": {},
   "outputs": [],
   "source": [
    "import itertools\n",
    "import matplotlib.pyplot as plt\n",
    "import numpy as np\n",
    "from tqdm import tqdm\n",
    "\n",
    "from typing import Any, Dict, List, Optional, Set, Tuple\n",
    "\n",
    "from pyquil import get_qc, Program\n",
    "from pyquil.api import QuantumComputer, QPUCompiler, WavefunctionSimulator\n",
    "from pyquil.gates import H, MEASURE, RESET\n",
    "from pyquil.paulis import exponential_map, PauliSum, sX, sZ\n",
    "from pyquil.quilbase import DefCalibration, Fence, FenceAll"
   ]
  },
  {
   "cell_type": "markdown",
   "metadata": {},
   "source": [
    "## Consolidated routines from the basic Max-Cut QAOA demonstration\n",
    "\n",
    "Here we consolidate the routines for generating Max-Cut QAOA problems and programs, running and plotting the algorithm result. For a detailed explanation of these routines, refer to the ``MaxCutQAOA.ipynb`` notebook."
   ]
  },
  {
   "cell_type": "code",
   "execution_count": null,
   "metadata": {},
   "outputs": [],
   "source": [
    "def generate_ising_graph(edges: List[Tuple[int, int]], seed: int) -> nx.Graph:\n",
    "    np.random.seed(seed)\n",
    "    graph = nx.from_edgelist(edges)\n",
    "    weights:  np.ndarray = np.random.uniform(low=-1.0, high=+1.0, size=graph.number_of_edges())\n",
    "    nx.set_edge_attributes(graph, {e: {'w': w} for e, w in zip(graph.edges, weights)})\n",
    "    return graph\n",
    "\n",
    "def bitstring_cut_weight(b: List[List[int]], graph: nx.Graph) -> dict:\n",
    "    cost = 0\n",
    "    inverse_map = {qubit: idx for idx, qubit in enumerate(list(graph.nodes))}\n",
    "    for q0, q1 in graph.edges():\n",
    "        cost += graph.get_edge_data(q0, q1)['w'] * (-1) ** int(b[inverse_map[q0]] != b[inverse_map[q1]])\n",
    "    return cost\n",
    "\n",
    "def maxcut_qaoa_program(graph: nx.Graph) -> Program:\n",
    "    cost_ham = PauliSum([sZ(i) * sZ(j) * graph.get_edge_data(i, j)['w'] for i, j in graph.edges])\n",
    "    driver_ham = PauliSum([sX(i) for i in graph.nodes])\n",
    "\n",
    "    p = Program(RESET())\n",
    "    beta = p.declare('beta', 'REAL')\n",
    "    gamma = p.declare('gamma', 'REAL')\n",
    "    ro = p.declare('ro', 'BIT', len(graph.nodes))\n",
    "\n",
    "    p.inst(H(qubit) for qubit in list(graph.nodes))\n",
    "    p.inst(exponential_map(term)(gamma) for term in cost_ham)\n",
    "    p.inst(exponential_map(term)(beta) for term in driver_ham)\n",
    "\n",
    "    p.inst(MEASURE(qubit, ro[idx]) for idx, qubit in enumerate(list(graph.nodes)))\n",
    "\n",
    "    return p\n",
    "\n",
    "def plot_landscape(landscape: np.ndarray):\n",
    "    width = landscape.shape[0]\n",
    "    max_x, max_y = (np.argmax(landscape) % width, np.argmax(landscape) // width)\n",
    "    plt.imshow(landscape, extent=[0, np.pi, np.pi, 0])\n",
    "    plt.plot((max_x + 0.5) * np.pi / width, (max_y + 0.5) * np.pi / width, 'ro')\n",
    "    plt.colorbar()\n",
    "    plt.xlabel('beta (radians)')\n",
    "    plt.ylabel('gamma (radians)')\n",
    "    plt.title('Max-Cut QAOA Landscape')\n",
    "    plt.show()"
   ]
  },
  {
   "cell_type": "markdown",
   "metadata": {},
   "source": [
    "## Patching the ``pyquil`` instruction set architecture to only use CZ\n",
    "\n",
    "To disable global fencing on CZ gates, we must first take steps to ensure that the QAOA ansatz circuit is compiled to only use the CZ gate. This routine patches the ``pyquil`` instruction set architecture used by the compiler to only support CZ in the set of 2Q instructions."
   ]
  },
  {
   "cell_type": "code",
   "execution_count": null,
   "metadata": {},
   "outputs": [],
   "source": [
    "def patch_pyquil_isa_to_cz(qc: QuantumComputer):\n",
    "    pyquil_device_isa_dict = qc.device.get_isa().to_dict()\n",
    "\n",
    "    def filter_operations_dict_cz(operations_dict: Dict[str, Any]) -> Dict[str, Any]:\n",
    "        return {\n",
    "            \"gates\": [\n",
    "                gate_dict\n",
    "                for gate_dict in operations_dict[\"gates\"]\n",
    "                if gate_dict[\"operator\"] == \"CZ\"\n",
    "            ]\n",
    "        }\n",
    "\n",
    "    pyquil_device_isa_dict_1q = pyquil_device_isa_dict[\"1Q\"]\n",
    "\n",
    "    pyquil_device_isa_dict_2q = {}\n",
    "    for edge_id_str, operations_dict in pyquil_device_isa_dict[\"2Q\"].items():\n",
    "        filtered_operations_dict = filter_operations_dict_cz(operations_dict)\n",
    "        if len(filtered_operations_dict[\"gates\"]) != 0:\n",
    "            pyquil_device_isa_dict_2q[edge_id_str] = filtered_operations_dict\n",
    "\n",
    "    pyquil_device_isa_dict = {\"1Q\": pyquil_device_isa_dict_1q, \"2Q\": pyquil_device_isa_dict_2q}\n",
    "    \n",
    "    qc.compiler.target_device.isa = pyquil_device_isa_dict"
   ]
  },
  {
   "cell_type": "markdown",
   "metadata": {},
   "source": [
    "## Generate new calibrations that disable global fencing using Quil-T\n",
    "\n",
    "To disable global fencing on CZ gates, we must generate new calibrations using Quil-T that modify the instruction sequence to replace global fencing directives (\"FENCEALL\") with fencing local to just the 2 qubits affected (\"FENCE \\<q0\\> \\<q1\\>\")."
   ]
  },
  {
   "cell_type": "code",
   "execution_count": null,
   "metadata": {},
   "outputs": [],
   "source": [
    "def disable_global_fencing_on_cz(qc: QuantumComputer) -> Program:\n",
    "    quilt_calibrations = qc.compiler.get_quilt_calibrations()\n",
    "\n",
    "    quilt_calibrations_nofence = []\n",
    "    for calibration in quilt_calibrations.calibrations:\n",
    "        if isinstance(calibration, DefCalibration):\n",
    "            if calibration.name == \"CZ\":\n",
    "                updated_instrs = []\n",
    "                for instr in calibration.instrs:\n",
    "                    if isinstance(instr, FenceAll):  # replace FenceAll\n",
    "                        updated_instrs.append(Fence(calibration.qubits))\n",
    "                    else:\n",
    "                        updated_instrs.append(instr)\n",
    "                quilt_calibrations_nofence.append(\n",
    "                    DefCalibration(calibration.name, calibration.parameters, calibration.qubits, updated_instrs)\n",
    "                )\n",
    "\n",
    "    return Program(quilt_calibrations_nofence)"
   ]
  },
  {
   "cell_type": "markdown",
   "metadata": {},
   "source": [
    "## Run the landscape, with or without disabling global fencing using Quil-T\n",
    "\n",
    "Here we provide the complete sequence for obtaining a ``pyquil`` quantum computer, modifying the instruction set architecture to only use CZ gates, compiling the QAOA ansatz circuit to native gates, and optionally prepending the updated Quil-T calibrations needed to disable global fencing on CZ. By setting the ``disable_global_fencing_on_gate`` flag, we can see the comparative effect on noise and QAOA performance for any input problem size.\n",
    "\n",
    "**Note:** To provide a reasonable demonstration, we isolate all operational edges within the right-hand two octogons of the Aspen-8 chip."
   ]
  },
  {
   "cell_type": "code",
   "execution_count": null,
   "metadata": {},
   "outputs": [],
   "source": [
    "def run_maxcut_qaoa_landscape(qc_name: str, disable_global_fencing: bool = False, width: int = 20, \n",
    "                              shots: int = 1000, seed: int = 0) -> Tuple[np.ndarray, Program, Program]:\n",
    "    \n",
    "    qc = get_qc(qc_name)\n",
    "    patch_pyquil_isa_to_cz(qc)\n",
    "    qc_device_isa_restricted_edges = qc.compiler.target_device.isa[\"2Q\"]\n",
    "\n",
    "    edges = []\n",
    "    for edge in qc.device.get_isa().edges:\n",
    "        if not edge.dead:\n",
    "            q0, q1 = edge.targets\n",
    "            if q0 >= 30 and q1 >= 30:\n",
    "                if f\"{q0}-{q1}\" in qc_device_isa_restricted_edges:\n",
    "                    edges.append((q0, q1))\n",
    "    \n",
    "    graph = generate_ising_graph(edges, seed)\n",
    "    \n",
    "    program = maxcut_qaoa_program(graph)\n",
    "    program.wrap_in_numshots_loop(shots)\n",
    "    \n",
    "    native_program = None\n",
    "\n",
    "    # qc.compiler.timeout = 60  # extend compilation timeout to 60 seconds\n",
    "    native_program = qc.compiler.quil_to_native_quil(program)\n",
    "\n",
    "    if disable_global_fencing:\n",
    "        native_program += disable_global_fencing_on_cz(qc)\n",
    "\n",
    "    executable = qc.compiler.native_quil_to_executable(native_program)\n",
    "\n",
    "    costs = []\n",
    "    angle_range = np.linspace(0, np.pi, width)\n",
    "    landscape = list(itertools.product(angle_range, angle_range))\n",
    "    for beta, gamma in tqdm(landscape):\n",
    "        memory_map = {'beta': [beta], 'gamma': [gamma]}\n",
    "        bitstrings = qc.run(executable, memory_map=memory_map)\n",
    "        costs.append(np.mean([bitstring_cut_weight(list(b), graph) for b in bitstrings]))\n",
    "\n",
    "    return np.array(costs).reshape(width, width), program, native_program"
   ]
  },
  {
   "cell_type": "markdown",
   "metadata": {},
   "source": [
    "## Choose a device\n",
    "\n",
    "Here we choose the test device, initially as a QVM which can be run at any time but will not show the effects of diabling fencing. To run on a real QPU, obtain a reservation and update the name of the quantum computer to \"Aspen-8\"."
   ]
  },
  {
   "cell_type": "code",
   "execution_count": null,
   "metadata": {},
   "outputs": [],
   "source": [
    "qc_name = \"Aspen-8-qvm\""
   ]
  },
  {
   "cell_type": "markdown",
   "metadata": {},
   "source": [
    "## Run landscape without global fencing disabled\n",
    "\n",
    "First, we run and display the landscape produced without global fencing disabled. This is the default behavior of a Quil program."
   ]
  },
  {
   "cell_type": "code",
   "execution_count": null,
   "metadata": {},
   "outputs": [],
   "source": [
    "landscape_with_global_fencing, _, _ = run_maxcut_qaoa_landscape(qc_name=qc_name, disable_global_fencing=False)\n",
    "plot_landscape(landscape_with_global_fencing)"
   ]
  },
  {
   "cell_type": "markdown",
   "metadata": {},
   "source": [
    "## Run landscape **with** global fencing disabled\n",
    "\n",
    "Second, we run and display the landscape produced with global fencing disabled. This capability is only accessible using Quil-T directives that alter the fencing behavior of the relevant gates."
   ]
  },
  {
   "cell_type": "code",
   "execution_count": null,
   "metadata": {},
   "outputs": [],
   "source": [
    "landscape_without_global_fencing, _, native_program = run_maxcut_qaoa_landscape(qc_name=qc_name, disable_global_fencing=True)\n",
    "plot_landscape(landscape_without_global_fencing)"
   ]
  },
  {
   "cell_type": "markdown",
   "metadata": {},
   "source": [
    "If you want to see what the native program looks like when fencing is disabled, you can always print it out. When this is run on QPU, you will see \"DEFCAL\" instructions that include \"FENCE\" directives that only isolate the qubit pair being operated upon, whereas the default calibration contains \"FENCE_ALL\" directives."
   ]
  },
  {
   "cell_type": "code",
   "execution_count": null,
   "metadata": {},
   "outputs": [],
   "source": [
    "print(native_program)"
   ]
  },
  {
   "cell_type": "code",
   "execution_count": null,
   "metadata": {},
   "outputs": [],
   "source": []
  }
 ],
 "metadata": {
  "kernelspec": {
   "display_name": "Python 3",
   "language": "python",
   "name": "python3"
  },
  "language_info": {
   "codemirror_mode": {
    "name": "ipython",
    "version": 3
   },
   "file_extension": ".py",
   "mimetype": "text/x-python",
   "name": "python",
   "nbconvert_exporter": "python",
   "pygments_lexer": "ipython3",
   "version": "3.7.9"
  }
 },
 "nbformat": 4,
 "nbformat_minor": 4
}
